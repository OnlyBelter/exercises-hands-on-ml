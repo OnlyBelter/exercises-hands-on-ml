{
 "cells": [
  {
   "cell_type": "code",
   "execution_count": 1,
   "metadata": {},
   "outputs": [
    {
     "name": "stdout",
     "output_type": "stream",
     "text": [
      "2.1.0\n"
     ]
    }
   ],
   "source": [
    "from __future__ import absolute_import, division, print_function, unicode_literals\n",
    "\n",
    "# TensorFlow and tf.keras\n",
    "import tensorflow as tf\n",
    "from tensorflow import keras\n",
    "\n",
    "# Helper libraries\n",
    "import numpy as np\n",
    "import matplotlib.pyplot as plt\n",
    "import time\n",
    "\n",
    "print(tf.__version__)  # 2.1.0"
   ]
  },
  {
   "cell_type": "code",
   "execution_count": 2,
   "metadata": {},
   "outputs": [
    {
     "data": {
      "text/plain": [
       "((60000, 28, 28), (10000, 28, 28))"
      ]
     },
     "execution_count": 2,
     "metadata": {},
     "output_type": "execute_result"
    }
   ],
   "source": [
    "mnist = keras.datasets.mnist\n",
    "(train_nums, train_labels), (test_nums, test_labels) = mnist.load_data()\n",
    "train_nums.shape, test_nums.shape"
   ]
  },
  {
   "cell_type": "code",
   "execution_count": 3,
   "metadata": {},
   "outputs": [
    {
     "data": {
      "text/plain": [
       "((60000, 784), (10000, 784))"
      ]
     },
     "execution_count": 3,
     "metadata": {},
     "output_type": "execute_result"
    }
   ],
   "source": [
    "train_nums_flattened = np.array([x.flatten() for x in train_nums])\n",
    "test_nums_flattened = np.array([x.flatten() for x in test_nums])\n",
    "train_nums_flattened.shape, test_nums_flattened.shape"
   ]
  },
  {
   "cell_type": "code",
   "execution_count": 4,
   "metadata": {},
   "outputs": [],
   "source": [
    "train_nums_flattened = train_nums_flattened / 255\n",
    "test_nums_flattened = test_nums_flattened / 255"
   ]
  },
  {
   "cell_type": "code",
   "execution_count": 5,
   "metadata": {},
   "outputs": [],
   "source": [
    "y_train_large = (train_labels >= 7)\n",
    "y_train_odd = (train_labels % 2 == 1)\n",
    "y_multilabel = np.c_[y_train_large, y_train_odd]\n",
    "# y_multilabel[y_multilabel==True] = 1\n",
    "# y_multilabel[y_multilabel==False] = 0\n",
    "y_multilabel = y_multilabel.astype(int)"
   ]
  },
  {
   "cell_type": "code",
   "execution_count": 6,
   "metadata": {},
   "outputs": [],
   "source": [
    "y_test_large = (test_labels >= 7)\n",
    "y_test_odd = (test_labels % 2 == 1)\n",
    "y_test_multilabel = np.c_[y_test_large, y_test_odd]\n",
    "y_test_multilabel = y_test_multilabel.astype(int)"
   ]
  },
  {
   "cell_type": "markdown",
   "metadata": {},
   "source": [
    "#### loss function 1: binary corss entropy loss\n",
    "use `keras.losses.BinaryCrossentropy` as loss function"
   ]
  },
  {
   "cell_type": "code",
   "execution_count": 7,
   "metadata": {},
   "outputs": [],
   "source": [
    "m_part1 = keras.Sequential([keras.layers.Dense(50, activation='relu', input_shape=[784]),\n",
    "                                                            keras.layers.Dense(30, activation='relu')])\n",
    "m_part2 = keras.Sequential([\n",
    "    keras.layers.Dense(50, activation='relu', input_shape=[30]),\n",
    "    keras.layers.Dense(2)])\n",
    "model = keras.Sequential([m_part1, m_part2])"
   ]
  },
  {
   "cell_type": "code",
   "execution_count": 8,
   "metadata": {},
   "outputs": [],
   "source": [
    "model.compile(optimizer='rmsprop', loss=keras.losses.BinaryCrossentropy(from_logits=True), metrics=['accuracy'])"
   ]
  },
  {
   "cell_type": "code",
   "execution_count": 9,
   "metadata": {},
   "outputs": [
    {
     "name": "stdout",
     "output_type": "stream",
     "text": [
      "Train on 60000 samples\n",
      "Epoch 1/5\n",
      "60000/60000 [==============================] - 3s 46us/sample - loss: 0.1471 - accuracy: 0.9428\n",
      "Epoch 2/5\n",
      "60000/60000 [==============================] - 3s 43us/sample - loss: 0.0701 - accuracy: 0.9751\n",
      "Epoch 3/5\n",
      "60000/60000 [==============================] - 2s 40us/sample - loss: 0.0549 - accuracy: 0.9812\n",
      "Epoch 4/5\n",
      "60000/60000 [==============================] - 2s 41us/sample - loss: 0.0470 - accuracy: 0.9839\n",
      "Epoch 5/5\n",
      "60000/60000 [==============================] - 3s 42us/sample - loss: 0.0415 - accuracy: 0.9860\n"
     ]
    },
    {
     "data": {
      "text/plain": [
       "<tensorflow.python.keras.callbacks.History at 0x7f5a89a07828>"
      ]
     },
     "execution_count": 9,
     "metadata": {},
     "output_type": "execute_result"
    }
   ],
   "source": [
    "model.fit(train_nums_flattened, y_multilabel, batch_size=64, epochs=5)"
   ]
  },
  {
   "cell_type": "code",
   "execution_count": 10,
   "metadata": {},
   "outputs": [
    {
     "name": "stdout",
     "output_type": "stream",
     "text": [
      "10000/10000 [==============================] - 1s 61us/sample - loss: 0.0550 - accuracy: 0.9823\n"
     ]
    },
    {
     "data": {
      "text/plain": [
       "[0.05502661752994172, 0.9823]"
      ]
     },
     "execution_count": 10,
     "metadata": {},
     "output_type": "execute_result"
    }
   ],
   "source": [
    "model.evaluate(test_nums_flattened, y_test_multilabel)"
   ]
  },
  {
   "cell_type": "code",
   "execution_count": 11,
   "metadata": {},
   "outputs": [
    {
     "data": {
      "text/plain": [
       "array([7, 2, 1, ..., 4, 5, 6], dtype=uint8)"
      ]
     },
     "execution_count": 11,
     "metadata": {},
     "output_type": "execute_result"
    }
   ],
   "source": [
    "test_labels"
   ]
  },
  {
   "cell_type": "code",
   "execution_count": 12,
   "metadata": {},
   "outputs": [
    {
     "data": {
      "text/plain": [
       "array([[  7.532341 ,  13.877022 ],\n",
       "       [-15.061962 ,  -8.099563 ],\n",
       "       [ -6.5343356,   7.7436457],\n",
       "       ...,\n",
       "       [ -9.076396 ,  -8.77918  ],\n",
       "       [ -6.3520756,   7.9817066],\n",
       "       [-20.035269 , -15.046896 ]], dtype=float32)"
      ]
     },
     "execution_count": 12,
     "metadata": {},
     "output_type": "execute_result"
    }
   ],
   "source": [
    "model.predict(test_nums_flattened)"
   ]
  },
  {
   "cell_type": "markdown",
   "metadata": {},
   "source": [
    "##### these two labels look like independent"
   ]
  },
  {
   "cell_type": "code",
   "execution_count": 13,
   "metadata": {},
   "outputs": [
    {
     "data": {
      "text/plain": [
       "<tf.Tensor: shape=(10000, 2), dtype=float32, numpy=\n",
       "array([[9.9946481e-01, 9.9999905e-01],\n",
       "       [2.8752316e-07, 3.0357973e-04],\n",
       "       [1.4505866e-03, 9.9956673e-01],\n",
       "       ...,\n",
       "       [1.1431986e-04, 1.5388062e-04],\n",
       "       [1.7400922e-03, 9.9965847e-01],\n",
       "       [1.9897262e-09, 2.9188783e-07]], dtype=float32)>"
      ]
     },
     "execution_count": 13,
     "metadata": {},
     "output_type": "execute_result"
    }
   ],
   "source": [
    "tf.sigmoid(model.predict(test_nums_flattened))"
   ]
  },
  {
   "cell_type": "code",
   "execution_count": 14,
   "metadata": {},
   "outputs": [
    {
     "data": {
      "text/plain": [
       "<tf.Tensor: shape=(10000, 2), dtype=float32, numpy=\n",
       "array([[9.9946481e-01, 9.9999905e-01],\n",
       "       [2.8752316e-07, 3.0357973e-04],\n",
       "       [1.4505866e-03, 9.9956673e-01],\n",
       "       ...,\n",
       "       [1.1431986e-04, 1.5388062e-04],\n",
       "       [1.7400922e-03, 9.9965847e-01],\n",
       "       [1.9897262e-09, 2.9188783e-07]], dtype=float32)>"
      ]
     },
     "execution_count": 14,
     "metadata": {},
     "output_type": "execute_result"
    }
   ],
   "source": [
    "tf.math.sigmoid(model.predict(test_nums_flattened))"
   ]
  },
  {
   "cell_type": "markdown",
   "metadata": {},
   "source": [
    "#### loss function2: sigmoid cross entropy\n",
    "use `tf.nn.sigmoid_cross_entropy_with_logits` as loss function"
   ]
  },
  {
   "cell_type": "code",
   "execution_count": 15,
   "metadata": {},
   "outputs": [],
   "source": [
    "m_part1 = keras.Sequential([keras.layers.Dense(50, activation='relu', input_shape=[784]),\n",
    "                                                            keras.layers.Dense(30, activation='relu')])\n",
    "m_part2 = keras.Sequential([\n",
    "    keras.layers.Dense(50, activation='relu', input_shape=[30]),\n",
    "    keras.layers.Dense(2)])\n",
    "model2 = keras.Sequential([m_part1, m_part2])"
   ]
  },
  {
   "cell_type": "code",
   "execution_count": 16,
   "metadata": {},
   "outputs": [],
   "source": [
    "def loss_op(y, y_pred):\n",
    "    loss=tf.nn.sigmoid_cross_entropy_with_logits(labels=y, logits=y_pred)\n",
    "    # print(loss)\n",
    "    return tf.reduce_mean(tf.reduce_sum(loss))\n",
    "model2.compile(optimizer='rmsprop', loss=loss_op, metrics=['accuracy'])"
   ]
  },
  {
   "cell_type": "code",
   "execution_count": 17,
   "metadata": {},
   "outputs": [
    {
     "name": "stdout",
     "output_type": "stream",
     "text": [
      "Train on 60000 samples\n",
      "Epoch 1/5\n",
      "60000/60000 [==============================] - 3s 50us/sample - loss: 18.7338 - accuracy: 0.5476\n",
      "Epoch 2/5\n",
      "60000/60000 [==============================] - 3s 43us/sample - loss: 9.0698 - accuracy: 0.5375\n",
      "Epoch 3/5\n",
      "60000/60000 [==============================] - 3s 43us/sample - loss: 7.1116 - accuracy: 0.5302\n",
      "Epoch 4/5\n",
      "60000/60000 [==============================] - 3s 42us/sample - loss: 5.9944 - accuracy: 0.4871\n",
      "Epoch 5/5\n",
      "60000/60000 [==============================] - 2s 41us/sample - loss: 5.3487 - accuracy: 0.4701\n"
     ]
    },
    {
     "data": {
      "text/plain": [
       "<tensorflow.python.keras.callbacks.History at 0x7f5a7a812780>"
      ]
     },
     "execution_count": 17,
     "metadata": {},
     "output_type": "execute_result"
    }
   ],
   "source": [
    "model2.fit(train_nums_flattened, y_multilabel.astype(np.float32), batch_size=64, epochs=5)"
   ]
  },
  {
   "cell_type": "code",
   "execution_count": 18,
   "metadata": {},
   "outputs": [
    {
     "name": "stdout",
     "output_type": "stream",
     "text": [
      "10000/10000 [==============================] - 0s 47us/sample - loss: 4.1141 - accuracy: 0.4640\n"
     ]
    },
    {
     "data": {
      "text/plain": [
       "[4.114106161737442, 0.464]"
      ]
     },
     "execution_count": 18,
     "metadata": {},
     "output_type": "execute_result"
    }
   ],
   "source": [
    "model2.evaluate(test_nums_flattened, y_test_multilabel.astype(np.float32))"
   ]
  },
  {
   "cell_type": "code",
   "execution_count": 19,
   "metadata": {},
   "outputs": [
    {
     "data": {
      "text/plain": [
       "array([7, 2, 1, ..., 4, 5, 6], dtype=uint8)"
      ]
     },
     "execution_count": 19,
     "metadata": {},
     "output_type": "execute_result"
    }
   ],
   "source": [
    "test_labels"
   ]
  },
  {
   "cell_type": "code",
   "execution_count": 20,
   "metadata": {},
   "outputs": [
    {
     "data": {
      "text/plain": [
       "array([[1, 1],\n",
       "       [0, 0],\n",
       "       [0, 1],\n",
       "       ...,\n",
       "       [0, 0],\n",
       "       [0, 1],\n",
       "       [0, 0]])"
      ]
     },
     "execution_count": 20,
     "metadata": {},
     "output_type": "execute_result"
    }
   ],
   "source": [
    "y_test_multilabel"
   ]
  },
  {
   "cell_type": "code",
   "execution_count": 21,
   "metadata": {},
   "outputs": [
    {
     "data": {
      "text/plain": [
       "array([[  7.4471025,   9.31081  ],\n",
       "       [-15.517901 ,  -6.6242085],\n",
       "       [ -8.165118 ,   8.104742 ],\n",
       "       ...,\n",
       "       [-10.8731985,  -8.889265 ],\n",
       "       [-11.579703 ,  13.985869 ],\n",
       "       [-20.471838 , -17.561388 ]], dtype=float32)"
      ]
     },
     "execution_count": 21,
     "metadata": {},
     "output_type": "execute_result"
    }
   ],
   "source": [
    "model2.predict(test_nums_flattened)"
   ]
  },
  {
   "cell_type": "markdown",
   "metadata": {},
   "source": [
    "##### these two labels look like independent"
   ]
  },
  {
   "cell_type": "code",
   "execution_count": 22,
   "metadata": {},
   "outputs": [
    {
     "data": {
      "text/plain": [
       "<tf.Tensor: shape=(10000, 2), dtype=float32, numpy=\n",
       "array([[9.9941719e-01, 9.9990952e-01],\n",
       "       [1.8224725e-07, 1.3260703e-03],\n",
       "       [2.8432216e-04, 9.9969804e-01],\n",
       "       ...,\n",
       "       [1.8959272e-05, 1.3784194e-04],\n",
       "       [9.3539420e-06, 9.9999917e-01],\n",
       "       [1.2858601e-09, 2.3614898e-08]], dtype=float32)>"
      ]
     },
     "execution_count": 22,
     "metadata": {},
     "output_type": "execute_result"
    }
   ],
   "source": [
    "tf.math.sigmoid(model2.predict(test_nums_flattened))"
   ]
  },
  {
   "cell_type": "code",
   "execution_count": null,
   "metadata": {},
   "outputs": [],
   "source": []
  }
 ],
 "metadata": {
  "kernelspec": {
   "display_name": "Python 3",
   "language": "python",
   "name": "python3"
  },
  "language_info": {
   "codemirror_mode": {
    "name": "ipython",
    "version": 3
   },
   "file_extension": ".py",
   "mimetype": "text/x-python",
   "name": "python",
   "nbconvert_exporter": "python",
   "pygments_lexer": "ipython3",
   "version": "3.6.10"
  }
 },
 "nbformat": 4,
 "nbformat_minor": 4
}
